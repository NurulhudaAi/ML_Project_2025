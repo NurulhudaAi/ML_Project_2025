{
 "cells": [
  {
   "cell_type": "markdown",
   "id": "80444d44",
   "metadata": {},
   "source": [
    "# XGB Step 4 — Feature importance & live prediction"
   ]
  },
  {
   "cell_type": "code",
   "execution_count": null,
   "id": "ca892e52",
   "metadata": {},
   "outputs": [],
   "source": [
    "import joblib, pandas as pd\n",
    "import matplotlib.pyplot as plt\n",
    "from xgboost import plot_importance\n",
    "\n",
    "model = joblib.load(\"XGB/model/modelXGB.joblib\")\n",
    "\n",
    "plt.figure(figsize=(10,6))\n",
    "plot_importance(model, max_num_features=10)\n",
    "plt.title(\"Top 10 Feature Importances (XGB)\")\n",
    "plt.show()\n",
    "\n",
    "live = pd.read_csv(\"data/high_salary.live.csv\")\n",
    "preds = model.predict(live)\n",
    "out = pd.DataFrame({\"prediction\": preds})\n",
    "out.to_csv(\"results/G7_predictions.live.csv\", index=False)\n",
    "print(out.head())\n",
    "print(\"Saved predictions to results/G7_predictions.live.csv\")\n"
   ]
  }
 ],
 "metadata": {},
 "nbformat": 4,
 "nbformat_minor": 5
}
