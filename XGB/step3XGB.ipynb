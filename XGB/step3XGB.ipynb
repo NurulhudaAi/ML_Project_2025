{
 "cells": [
  {
   "cell_type": "markdown",
   "id": "46a3a6b1",
   "metadata": {},
   "source": [
    "# XGB Step 3 — Train XGBoost model"
   ]
  },
  {
   "cell_type": "code",
   "execution_count": null,
   "id": "40c472b1",
   "metadata": {},
   "outputs": [],
   "source": [
    "try:\n",
    "    import xgboost\n",
    "except Exception as e:\n",
    "    import sys, subprocess\n",
    "    subprocess.check_call([sys.executable, \"-m\", \"pip\", \"install\", \"xgboost\"])\n",
    "\n",
    "import pandas as pd\n",
    "from sklearn.model_selection import train_test_split\n",
    "from xgboost import XGBClassifier\n",
    "from sklearn.metrics import accuracy_score, classification_report\n",
    "import joblib, os\n",
    "\n",
    "df = pd.read_csv(\"data/high_salary.csv\")\n",
    "y = df[\"label\"]\n",
    "X = df.drop(columns=[\"label\"])\n",
    "\n",
    "X_train, X_valid, y_train, y_valid = train_test_split(\n",
    "    X, y, test_size=0.2, random_state=42, stratify=y\n",
    ")\n",
    "\n",
    "model = XGBClassifier(\n",
    "    n_estimators=300,\n",
    "    learning_rate=0.05,\n",
    "    max_depth=5,\n",
    "    subsample=0.8,\n",
    "    colsample_bytree=0.8,\n",
    "    random_state=42,\n",
    "    n_jobs=-1,\n",
    "    eval_metric=\"logloss\",\n",
    ")\n",
    "model.fit(X_train, y_train)\n",
    "\n",
    "pred = model.predict(X_valid)\n",
    "print(\"Accuracy:\", accuracy_score(y_valid, pred))\n",
    "print(classification_report(y_valid, pred))\n",
    "\n",
    "os.makedirs(\"XGB/model\", exist_ok=True)\n",
    "joblib.dump(model, \"XGB/model/modelXGB.joblib\")\n",
    "print(\"Saved model to XGB/model/modelXGB.joblib\")\n"
   ]
  }
 ],
 "metadata": {},
 "nbformat": 4,
 "nbformat_minor": 5
}
